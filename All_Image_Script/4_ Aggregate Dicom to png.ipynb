{
 "cells": [
  {
   "cell_type": "code",
   "execution_count": 1,
   "metadata": {},
   "outputs": [
    {
     "name": "stdout",
     "output_type": "stream",
     "text": [
      "Image Image Index not found in source folder.\n",
      "Finished copying images.\n",
      "Finished moving .png files.\n"
     ]
    }
   ],
   "source": [
    "# 1. NIH image processing into aggregate folder \n",
    "import os\n",
    "import shutil\n",
    "import openpyxl\n",
    "import csv\n",
    "\n",
    "# Path to NIH metadata file\n",
    "\n",
    "\n",
    "# Path to image source and destination folders\n",
    "image_source = ('/srv/store/jkim/peds_cxr/')  # edit this. this is where images are located.\n",
    "parent = ('/home/jkim/research/peds_cxr/') # edit this. this is the parent folder. \n",
    "\n",
    "source_folder = image_source + 'original_data/NIH_Peds/NIH-CXR-14/images/'\n",
    "destination_folder = image_source + 'aggregate/'\n",
    "\n",
    "metadata_file_path = parent + 'peds_cxr_metadata/raw_metadata/nih_raw_metadata_jk.csv'\n",
    "\n",
    "\n",
    "# Read the image IDs from the CSV file\n",
    "image_ids = []\n",
    "with open(metadata_file_path, 'r') as file:\n",
    "    reader = csv.reader(file)\n",
    "    for row in reader:\n",
    "        image_id = row[0]\n",
    "        if image_id:  \n",
    "            image_ids.append(image_id)\n",
    "\n",
    "# Loop through the image IDs and copy the corresponding files\n",
    "for image_id in image_ids:\n",
    "    image_name = str(image_id)\n",
    "    source = os.path.join(source_folder, image_name)\n",
    "    destination = os.path.join(destination_folder, image_name)\n",
    "    \n",
    "    # Copy the file\n",
    "    if os.path.exists(source):\n",
    "        shutil.copy(source, destination)\n",
    "    else:\n",
    "        print(f'Image {image_name} not found in source folder.')\n",
    "\n",
    "print('Finished copying images.')\n",
    "\n",
    "# move all images into the 'images' subfolder \n",
    "# Specify the source folder which contains the .png files and the destination subfolder\n",
    "source_folder = image_source + 'Aggregate/'\n",
    "destination_subfolder = image_source + 'Aggregate/images'\n",
    "\n",
    "# Ensure that the destination subfolder exists, if not, create it\n",
    "if not os.path.exists(destination_subfolder):\n",
    "    os.makedirs(destination_subfolder)\n",
    "\n",
    "# Iterate through each file in the source folder\n",
    "for file_name in os.listdir(source_folder):\n",
    "    # Check if the file is a .png file\n",
    "    if file_name.endswith('.png'):\n",
    "        # Construct the full file path\n",
    "        source = os.path.join(source_folder, file_name)\n",
    "        destination = os.path.join(destination_subfolder, file_name)\n",
    "        \n",
    "        # Move the file to the destination subfolder\n",
    "        shutil.move(source, destination)\n",
    "\n",
    "print(\"Finished moving .png files.\")"
   ]
  },
  {
   "cell_type": "code",
   "execution_count": null,
   "metadata": {},
   "outputs": [],
   "source": []
  },
  {
   "cell_type": "code",
   "execution_count": null,
   "metadata": {},
   "outputs": [],
   "source": []
  }
 ],
 "metadata": {
  "kernelspec": {
   "display_name": "Python 3",
   "language": "python",
   "name": "python3"
  },
  "language_info": {
   "codemirror_mode": {
    "name": "ipython",
    "version": 3
   },
   "file_extension": ".py",
   "mimetype": "text/x-python",
   "name": "python",
   "nbconvert_exporter": "python",
   "pygments_lexer": "ipython3",
   "version": "3.11.4"
  },
  "orig_nbformat": 4
 },
 "nbformat": 4,
 "nbformat_minor": 2
}
