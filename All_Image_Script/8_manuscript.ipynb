{
 "cells": [
  {
   "cell_type": "code",
   "execution_count": 2,
   "metadata": {},
   "outputs": [
    {
     "name": "stdout",
     "output_type": "stream",
     "text": [
      "Statistics exported to /home/jkim/research/peds_cxr/25variation/manuscript/demographics.csv\n"
     ]
    }
   ],
   "source": [
    "import pandas as pd\n",
    "\n",
    "# Load the dataset\n",
    "df = pd.read_csv('/home/jkim/research/peds_cxr/25variation/metadata/final/aggregate/aggregate_metadata_seed_9.csv')  # Replace 'path_to_your_file.csv' with the actual file path\n",
    "\n",
    "# Splitting the dataframe by dataset\n",
    "nih_df = df[df['Dataset'] == 'NIH']\n",
    "vindr_df = df[df['Dataset'] == 'VinDR'] \n",
    "\n",
    "# Calculating statistics\n",
    "total_images_nih = nih_df.shape[0]\n",
    "total_images_vindr = vindr_df.shape[0]\n",
    "total_images_aggregate = df.shape[0]\n",
    "\n",
    "total_patients_nih = nih_df['Image Index'].nunique()\n",
    "total_patients_vindr = vindr_df['Image Index'].nunique()\n",
    "total_patients_aggregate = df['Image Index'].nunique()\n",
    "\n",
    "sex_distribution_nih = nih_df['Patient Gender'].value_counts()\n",
    "sex_distribution_vindr = vindr_df['Patient Gender'].value_counts()\n",
    "sex_distribution_aggregate = df['Patient Gender'].value_counts()\n",
    "\n",
    "# Function to calculate corrected age distribution\n",
    "def calculate_age_distribution(df):\n",
    "    age_dist = {\n",
    "        \"0-5\": len(df[(df['Patient Age'] >= 0) & (df['Patient Age'] <= 5)]),\n",
    "        \"6-9\": len(df[(df['Patient Age'] >= 6) & (df['Patient Age'] <= 9)]),\n",
    "        \"10-13\": len(df[(df['Patient Age'] >= 10) & (df['Patient Age'] <= 13)]),\n",
    "        \"14-18\": len(df[(df['Patient Age'] >= 14) & (df['Patient Age'] <= 18)])\n",
    "    }\n",
    "    return age_dist\n",
    "\n",
    "# Recalculating age distributions\n",
    "nih_age_distribution = calculate_age_distribution(nih_df)\n",
    "vindr_age_distribution = calculate_age_distribution(vindr_df)\n",
    "aggregate_age_distribution = calculate_age_distribution(df)\n",
    "\n",
    "nih_mean_age = nih_df['Patient Age'].mean()\n",
    "vindr_mean_age = vindr_df['Patient Age'].mean()\n",
    "aggregate_mean_age = df['Patient Age'].mean()\n",
    "\n",
    "nih_age_sd = nih_df['Patient Age'].std()\n",
    "vindr_age_sd = vindr_df['Patient Age'].std()\n",
    "aggregate_age_sd = df['Patient Age'].std()\n",
    "\n",
    "labels = ['No Finding', 'Cardiomegaly', 'Consolidation', 'Infiltration', 'Mass/Nodule', 'Pneumonia']\n",
    "labels_counts_nih = nih_df[labels].sum()\n",
    "labels_counts_vindr = vindr_df[labels].sum()\n",
    "labels_counts_aggregate = df[labels].sum()\n",
    "\n",
    "# Preparing data for CSV export\n",
    "stats_dict = {\n",
    "    \"Variable\": [\"Total # of Images\", \"Total # of Patients\", \"Sex - Female\", \"Sex - Male\", \"Age 0-5\", \"Age 6-9\", \"Age 10-13\", \"Age 14-18\", \"Mean patient age ± SD\", \"No Finding\", \"Cardiomegaly\", \"Consolidation\", \"Infiltration\", \"Mass/Nodule\", \"Pneumonia\"],\n",
    "    \"VinDR\": [total_images_vindr, total_patients_vindr, sex_distribution_vindr.get('F', 0), sex_distribution_vindr.get('M', 0), vindr_age_distribution.get('0-5', 0), vindr_age_distribution.get('6-9', 0), vindr_age_distribution.get('10-13', 0), vindr_age_distribution.get('14-18', 0), f\"{vindr_mean_age:.2f} ± {vindr_age_sd:.2f}\", labels_counts_vindr['No Finding'], labels_counts_vindr['Cardiomegaly'], labels_counts_vindr['Consolidation'], labels_counts_vindr['Infiltration'], labels_counts_vindr['Mass/Nodule'], labels_counts_vindr['Pneumonia']],\n",
    "    \"NIH\": [total_images_nih, total_patients_nih, sex_distribution_nih.get('F', 0), sex_distribution_nih.get('M', 0), nih_age_distribution.get('0-5', 0), nih_age_distribution.get('6-9', 0), nih_age_distribution.get('10-13', 0), nih_age_distribution.get('14-18', 0), f\"{nih_mean_age:.2f} ± {nih_age_sd:.2f}\", labels_counts_nih['No Finding'], labels_counts_nih['Cardiomegaly'], labels_counts_nih['Consolidation'], labels_counts_nih['Infiltration'], labels_counts_nih['Mass/Nodule'], labels_counts_nih['Pneumonia']],\n",
    "    \"Aggregate\": [total_images_aggregate, total_patients_aggregate, sex_distribution_aggregate.get('F', 0), sex_distribution_aggregate.get('M', 0), aggregate_age_distribution.get('0-5', 0), aggregate_age_distribution.get('6-9', 0), aggregate_age_distribution.get('10-13', 0), aggregate_age_distribution.get('14-18', 0), f\"{aggregate_mean_age:.2f} ± {aggregate_age_sd:.2f}\", labels_counts_aggregate['No Finding'], labels_counts_aggregate['Cardiomegaly'], labels_counts_aggregate['Consolidation'], labels_counts_aggregate['Infiltration'], labels_counts_aggregate['Mass/Nodule'], labels_counts_aggregate['Pneumonia']]\n",
    "}\n",
    "\n",
    "# Convert the dictionary to a DataFrame\n",
    "stats_df = pd.DataFrame(stats_dict)\n",
    "\n",
    "# Export the DataFrame to CSV\n",
    "csv_file_path = '/home/jkim/research/peds_cxr/25variation/manuscript/demographics.csv'  # You can change the file name and path as needed\n",
    "stats_df.to_csv(csv_file_path, index=False)\n",
    "\n",
    "print(f\"Statistics exported to {csv_file_path}\")\n"
   ]
  },
  {
   "cell_type": "code",
   "execution_count": 2,
   "metadata": {},
   "outputs": [
    {
     "name": "stdout",
     "output_type": "stream",
     "text": [
      "Python Version: 3.11.4 (main, Jul  5 2023, 13:45:01) [GCC 11.2.0]\n",
      "scipy Version: 1.9.3\n",
      "sklearn (scikit-learn) Version: 1.2.2\n",
      "seaborn Version: 0.12.2\n",
      "statsmodels Version: 0.14.1\n"
     ]
    }
   ],
   "source": [
    "# Save this script as version_info.py and run it using your terminal or command prompt\n",
    "\n",
    "import sys\n",
    "import scipy\n",
    "import sklearn\n",
    "import seaborn\n",
    "import statsmodels\n",
    "\n",
    "def show_versions():\n",
    "    print(\"Python Version:\", sys.version)\n",
    "    print(\"scipy Version:\", scipy.__version__)\n",
    "    print(\"sklearn (scikit-learn) Version:\", sklearn.__version__)\n",
    "    print(\"seaborn Version:\", seaborn.__version__)\n",
    "    print(\"statsmodels Version:\", statsmodels.__version__)\n",
    "\n",
    "if __name__ == \"__main__\":\n",
    "    show_versions()\n"
   ]
  }
 ],
 "metadata": {
  "kernelspec": {
   "display_name": "peds",
   "language": "python",
   "name": "python3"
  },
  "language_info": {
   "codemirror_mode": {
    "name": "ipython",
    "version": 3
   },
   "file_extension": ".py",
   "mimetype": "text/x-python",
   "name": "python",
   "nbconvert_exporter": "python",
   "pygments_lexer": "ipython3",
   "version": "3.11.4"
  }
 },
 "nbformat": 4,
 "nbformat_minor": 2
}
